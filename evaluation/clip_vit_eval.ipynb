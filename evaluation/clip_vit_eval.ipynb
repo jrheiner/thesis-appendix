{
 "cells": [
  {
   "cell_type": "code",
   "execution_count": 1,
   "metadata": {},
   "outputs": [],
   "source": [
    "from datasets import load_dataset\n",
    "from transformers import CLIPProcessor, CLIPModel\n",
    "import numpy as np\n",
    "import evaluate\n",
    "import torch\n",
    "import huggingface_hub\n",
    "from tqdm import tqdm\n",
    "from sklearn.metrics import accuracy_score\n",
    "import os\n"
   ]
  },
  {
   "cell_type": "code",
   "execution_count": 2,
   "metadata": {},
   "outputs": [
    {
     "name": "stdout",
     "output_type": "stream",
     "text": [
      "CUDA=True\n",
      "count=1\n",
      "current=NVIDIA GeForce RTX 4070\n"
     ]
    }
   ],
   "source": [
    "CUDA_AVAILABLE=torch.cuda.is_available()\n",
    "print(f\"CUDA={CUDA_AVAILABLE}\")\n",
    "device = \"cuda\" if CUDA_AVAILABLE else \"cpu\"\n",
    "print(f\"count={torch.cuda.device_count()}\")\n",
    "print(f\"current={torch.cuda.get_device_name(torch.cuda.current_device())}\")"
   ]
  },
  {
   "cell_type": "code",
   "execution_count": 20,
   "metadata": {},
   "outputs": [
    {
     "data": {
      "application/vnd.jupyter.widget-view+json": {
       "model_id": "8454eba195c848c2a13617049bd93f15",
       "version_major": 2,
       "version_minor": 0
      },
      "text/plain": [
       "Resolving data files:   0%|          | 0/23 [00:00<?, ?it/s]"
      ]
     },
     "metadata": {},
     "output_type": "display_data"
    },
    {
     "data": {
      "application/vnd.jupyter.widget-view+json": {
       "model_id": "200d7b9471834e728e2fd4deeecb1c88",
       "version_major": 2,
       "version_minor": 0
      },
      "text/plain": [
       "Resolving data files:   0%|          | 0/23 [00:00<?, ?it/s]"
      ]
     },
     "metadata": {},
     "output_type": "display_data"
    },
    {
     "data": {
      "application/vnd.jupyter.widget-view+json": {
       "model_id": "5b0f41cc95b6413388758eda1a31e747",
       "version_major": 2,
       "version_minor": 0
      },
      "text/plain": [
       "Downloading readme:   0%|          | 0.00/469 [00:00<?, ?B/s]"
      ]
     },
     "metadata": {},
     "output_type": "display_data"
    },
    {
     "data": {
      "application/vnd.jupyter.widget-view+json": {
       "model_id": "840bc06363db47b697c6d8c487617c5c",
       "version_major": 2,
       "version_minor": 0
      },
      "text/plain": [
       "Downloading data:   0%|          | 0.00/280M [00:00<?, ?B/s]"
      ]
     },
     "metadata": {},
     "output_type": "display_data"
    },
    {
     "data": {
      "application/vnd.jupyter.widget-view+json": {
       "model_id": "aa85a745391a48bfbefc094cc621f7a0",
       "version_major": 2,
       "version_minor": 0
      },
      "text/plain": [
       "Downloading data:   0%|          | 0.00/289M [00:00<?, ?B/s]"
      ]
     },
     "metadata": {},
     "output_type": "display_data"
    },
    {
     "data": {
      "application/vnd.jupyter.widget-view+json": {
       "model_id": "6d2de21797494ee985789942ead20cb3",
       "version_major": 2,
       "version_minor": 0
      },
      "text/plain": [
       "Generating train split:   0%|          | 0/4536 [00:00<?, ? examples/s]"
      ]
     },
     "metadata": {},
     "output_type": "display_data"
    }
   ],
   "source": [
    "ds_k78k = load_dataset(\"jrheiner/geo_training_v3\", split=\"test\")\n",
    "ds_im2gps = load_dataset(\"jrheiner/im2gps\", split=\"train\")\n",
    "ds_im2gps2k = load_dataset(\"jrheiner/im2gps2k\", split=\"train\")\n",
    "ds_im2gps3k = load_dataset(\"jrheiner/im2gps3k\", split=\"train\")\n",
    "ds_yfcc4k = load_dataset(\"jrheiner/yfcc4k\", split=\"train\")\n"
   ]
  },
  {
   "cell_type": "code",
   "execution_count": 21,
   "metadata": {},
   "outputs": [],
   "source": [
    "def map_id2label(example):\n",
    "    example[\"country_str\"] = ds_im2gps.features[\"country\"].int2str(example[\"country\"])\n",
    "    example[\"continent_str\"] = ds_im2gps.features[\"continent\"].int2str(example[\"continent\"])\n",
    "    return example\n",
    "\n",
    "ds_im2gps = ds_im2gps.map(map_id2label, batched=True)\n",
    "ds_im2gps = ds_im2gps.remove_columns([\"country\", \"continent\"])\n",
    "ds_im2gps = ds_im2gps.rename_column(\"country_str\", \"country\")\n",
    "ds_im2gps = ds_im2gps.rename_column(\"continent_str\", \"continent\")\n",
    "\n",
    "def map_id2label(example):\n",
    "    example[\"country_str\"] = ds_im2gps2k.features[\"country\"].int2str(example[\"country\"])\n",
    "    example[\"continent_str\"] = ds_im2gps2k.features[\"continent\"].int2str(example[\"continent\"])\n",
    "    return example\n",
    "\n",
    "ds_im2gps2k = ds_im2gps2k.map(map_id2label, batched=True)\n",
    "ds_im2gps2k = ds_im2gps2k.remove_columns([\"country\", \"continent\"])\n",
    "ds_im2gps2k = ds_im2gps2k.rename_column(\"country_str\", \"country\")\n",
    "ds_im2gps2k = ds_im2gps2k.rename_column(\"continent_str\", \"continent\")\n"
   ]
  },
  {
   "cell_type": "code",
   "execution_count": 22,
   "metadata": {},
   "outputs": [
    {
     "data": {
      "text/plain": [
       "Dataset({\n",
       "    features: ['image', 'image_id', 'longitude', 'latitude', 'country', 'continent', 'source'],\n",
       "    num_rows: 7020\n",
       "})"
      ]
     },
     "execution_count": 22,
     "metadata": {},
     "output_type": "execute_result"
    }
   ],
   "source": [
    "ds_k78k"
   ]
  },
  {
   "cell_type": "code",
   "execution_count": 23,
   "metadata": {},
   "outputs": [
    {
     "data": {
      "text/plain": [
       "Dataset({\n",
       "    features: ['image', 'im2gps_category', 'latitude', 'longitude', 'country', 'continent'],\n",
       "    num_rows: 237\n",
       "})"
      ]
     },
     "execution_count": 23,
     "metadata": {},
     "output_type": "execute_result"
    }
   ],
   "source": [
    "ds_im2gps"
   ]
  },
  {
   "cell_type": "code",
   "execution_count": 24,
   "metadata": {},
   "outputs": [
    {
     "data": {
      "text/plain": [
       "Dataset({\n",
       "    features: ['image', 'latitude', 'longitude', 'country', 'continent'],\n",
       "    num_rows: 2000\n",
       "})"
      ]
     },
     "execution_count": 24,
     "metadata": {},
     "output_type": "execute_result"
    }
   ],
   "source": [
    "ds_im2gps2k"
   ]
  },
  {
   "cell_type": "code",
   "execution_count": 25,
   "metadata": {},
   "outputs": [
    {
     "data": {
      "text/plain": [
       "Dataset({\n",
       "    features: ['image', 'latitude', 'longitude', 'country', 'continent'],\n",
       "    num_rows: 2997\n",
       "})"
      ]
     },
     "execution_count": 25,
     "metadata": {},
     "output_type": "execute_result"
    }
   ],
   "source": [
    "ds_im2gps3k"
   ]
  },
  {
   "cell_type": "code",
   "execution_count": 26,
   "metadata": {},
   "outputs": [
    {
     "data": {
      "text/plain": [
       "Dataset({\n",
       "    features: ['image', 'id', 'longitude', 'latitude', 'country', 'continent'],\n",
       "    num_rows: 4536\n",
       "})"
      ]
     },
     "execution_count": 26,
     "metadata": {},
     "output_type": "execute_result"
    }
   ],
   "source": [
    "ds_yfcc4k"
   ]
  },
  {
   "cell_type": "code",
   "execution_count": 27,
   "metadata": {},
   "outputs": [],
   "source": [
    "EVAL_EXPORT_BASE_DIR = \"evals\"\n",
    "BATCH_SIZE=8\n",
    "\n",
    "EVAL_DATASETS = {\n",
    "    # \"k78k\": ds_k78k,\n",
    "    # \"im2gps\": ds_im2gps,\n",
    "    # \"im2gps2k\": ds_im2gps2k,\n",
    "    \"im2gps3k\": ds_im2gps3k,\n",
    "    \"yfcc4k\": ds_yfcc4k\n",
    "}\n",
    "\n",
    "TARGET_LABELS = [\"continent\", \"country\"]\n",
    "\n",
    "EVAL_MODELS = {\n",
    "    \"CLIP-ViT-B-16-continent\": {\n",
    "        \"model_path\": \"trainings/clip-ft-1e-6/clip-vit-base-patch16-continent-ft-best_LR_1e-6\",\n",
    "        \"processor\": \"openai/clip-vit-base-patch16\"\n",
    "    },\n",
    "    \"CLIP-ViT-B-16-combinedlabels\": {\n",
    "        \"model_path\": \"trainings/clip-fit-base-combinedlabels/clip-vit-base-patch16-combinedlabels-ft-e3\",\n",
    "        \"processor\": \"openai/clip-vit-base-patch16\"\n",
    "    },\n",
    "    \"CLIP-ViT-B-16-continent-osv5m\": {\n",
    "        \"model_path\": \"trainings/clip-ft-base-osv5m-continent/clip-vit-base-patch16-continent-ft-osv5m-best\",\n",
    "        \"processor\": \"openai/clip-vit-base-patch16\"\n",
    "    },\n",
    "    \"CLIP-ViT-B-16-combinedlabels-osv5m\": {\n",
    "        \"model_path\": \"trainings/clip-ft-base-osv5m-combinedlabels/clip-vit-base-patch16-osv5m-combinedlabels-ft-e3_FINAL\",\n",
    "        \"processor\": \"openai/clip-vit-base-patch16\"\n",
    "    },\n",
    "    \"CLIP-ViT-B-16-continent-zeroshot\": {\n",
    "        \"model_path\": \"openai/clip-vit-base-patch16\",\n",
    "        \"processor\": \"openai/clip-vit-base-patch16\"\n",
    "    },\n",
    "    \"CLIP-ViT-L-14-336-continent\": {\n",
    "        \"model_path\": \"trainings/clip-fit-large-continent/clip-vit-large-patch14-336-continent-ft-best\",\n",
    "        \"processor\": \"openai/clip-vit-large-patch14-336\"\n",
    "    },\n",
    "    \"CLIP-ViT-L-14-336-combinedlabels\": {\n",
    "        \"model_path\": \"trainings/clip-ft-large-combinedlabels/clip-vit-large-patch14-336-combinedlabels-ft-e3\",\n",
    "        \"processor\": \"openai/clip-vit-large-patch14-336\"\n",
    "    },\n",
    "    \"CLIP-ViT-L-14-336-continent-osv5m\": {\n",
    "        \"model_path\": \"trainings/clip-ft-large-osv5m-continent/clip-large-e1\",\n",
    "        \"processor\": \"openai/clip-vit-large-patch14-336\"\n",
    "    },\n",
    "    \"CLIP-ViT-L-14-336-combinedlabels-osv5m\": {\n",
    "        \"model_path\": \"trainings/clip-ft-large-osv5m-combinedlabels/clip-vit-large-patch14-336-osv5m-combinedlabels-ft-e3-BEST\",\n",
    "        \"processor\": \"openai/clip-vit-large-patch14-336\"\n",
    "    },\n",
    "    \"CLIP-ViT-L-14-336-continent-zeroshot\": {\n",
    "        \"model_path\": \"openai/clip-vit-large-patch14-336\",\n",
    "        \"processor\": \"openai/clip-vit-large-patch14-336\"\n",
    "    },\n",
    "}"
   ]
  },
  {
   "cell_type": "code",
   "execution_count": 28,
   "metadata": {},
   "outputs": [
    {
     "name": "stdout",
     "output_type": "stream",
     "text": [
      "CLIP-ViT-B-16-continent\n"
     ]
    },
    {
     "name": "stderr",
     "output_type": "stream",
     "text": [
      "im2gps3k-continent: 100%|██████████| 375/375 [00:39<00:00,  9.42it/s, Accuracy: 0.6563]\n",
      "im2gps3k-country: 100%|██████████| 375/375 [00:39<00:00,  9.43it/s, Accuracy: 0.3530]\n",
      "yfcc4k-continent: 100%|█████████▉| 567/568 [00:35<00:00, 16.10it/s, Accuracy: 0.6133]\n",
      "yfcc4k-country: 100%|█████████▉| 567/568 [00:41<00:00, 13.58it/s, Accuracy: 0.2848]\n"
     ]
    },
    {
     "name": "stdout",
     "output_type": "stream",
     "text": [
      "CLIP-ViT-B-16-combinedlabels\n"
     ]
    },
    {
     "name": "stderr",
     "output_type": "stream",
     "text": [
      "im2gps3k-continent: 100%|██████████| 375/375 [00:38<00:00,  9.77it/s, Accuracy: 0.6373]\n",
      "im2gps3k-country: 100%|██████████| 375/375 [00:39<00:00,  9.50it/s, Accuracy: 0.4064]\n",
      "yfcc4k-continent: 100%|█████████▉| 567/568 [00:34<00:00, 16.47it/s, Accuracy: 0.5763]\n",
      "yfcc4k-country: 100%|█████████▉| 567/568 [00:41<00:00, 13.74it/s, Accuracy: 0.3234]\n"
     ]
    },
    {
     "name": "stdout",
     "output_type": "stream",
     "text": [
      "CLIP-ViT-B-16-continent-osv5m\n"
     ]
    },
    {
     "name": "stderr",
     "output_type": "stream",
     "text": [
      "im2gps3k-continent: 100%|██████████| 375/375 [00:38<00:00,  9.83it/s, Accuracy: 0.6720]\n",
      "im2gps3k-country: 100%|██████████| 375/375 [00:39<00:00,  9.51it/s, Accuracy: 0.3493]\n",
      "yfcc4k-continent: 100%|█████████▉| 567/568 [00:34<00:00, 16.50it/s, Accuracy: 0.6080]\n",
      "yfcc4k-country: 100%|█████████▉| 567/568 [00:41<00:00, 13.77it/s, Accuracy: 0.3228]\n"
     ]
    },
    {
     "name": "stdout",
     "output_type": "stream",
     "text": [
      "CLIP-ViT-B-16-combinedlabels-osv5m\n"
     ]
    },
    {
     "name": "stderr",
     "output_type": "stream",
     "text": [
      "im2gps3k-continent: 100%|██████████| 375/375 [00:38<00:00,  9.84it/s, Accuracy: 0.6400]\n",
      "im2gps3k-country: 100%|██████████| 375/375 [00:38<00:00,  9.63it/s, Accuracy: 0.3901]\n",
      "yfcc4k-continent: 100%|█████████▉| 567/568 [00:34<00:00, 16.45it/s, Accuracy: 0.5578]\n",
      "yfcc4k-country: 100%|█████████▉| 567/568 [00:41<00:00, 13.60it/s, Accuracy: 0.3020]\n"
     ]
    },
    {
     "name": "stdout",
     "output_type": "stream",
     "text": [
      "CLIP-ViT-B-16-continent-zeroshot\n"
     ]
    },
    {
     "name": "stderr",
     "output_type": "stream",
     "text": [
      "im2gps3k-continent: 100%|██████████| 375/375 [00:39<00:00,  9.59it/s, Accuracy: 0.5465]\n",
      "im2gps3k-country: 100%|██████████| 375/375 [00:39<00:00,  9.38it/s, Accuracy: 0.4558]\n",
      "yfcc4k-continent: 100%|█████████▉| 567/568 [00:34<00:00, 16.24it/s, Accuracy: 0.4147]\n",
      "yfcc4k-country: 100%|█████████▉| 567/568 [00:41<00:00, 13.63it/s, Accuracy: 0.3810]\n"
     ]
    },
    {
     "name": "stdout",
     "output_type": "stream",
     "text": [
      "CLIP-ViT-L-14-336-continent\n"
     ]
    },
    {
     "name": "stderr",
     "output_type": "stream",
     "text": [
      "im2gps3k-continent: 100%|██████████| 375/375 [02:10<00:00,  2.88it/s, Accuracy: 0.7928]\n",
      "im2gps3k-country: 100%|██████████| 375/375 [02:17<00:00,  2.72it/s, Accuracy: 0.5045]\n",
      "yfcc4k-continent: 100%|█████████▉| 567/568 [02:58<00:00,  3.17it/s, Accuracy: 0.6825]\n",
      "yfcc4k-country: 100%|█████████▉| 567/568 [03:13<00:00,  2.93it/s, Accuracy: 0.4231]\n"
     ]
    },
    {
     "name": "stdout",
     "output_type": "stream",
     "text": [
      "CLIP-ViT-L-14-336-combinedlabels\n"
     ]
    },
    {
     "name": "stderr",
     "output_type": "stream",
     "text": [
      "im2gps3k-continent: 100%|██████████| 375/375 [02:13<00:00,  2.81it/s, Accuracy: 0.7908]\n",
      "im2gps3k-country: 100%|██████████| 375/375 [02:21<00:00,  2.66it/s, Accuracy: 0.5759]\n",
      "yfcc4k-continent: 100%|█████████▉| 567/568 [02:58<00:00,  3.18it/s, Accuracy: 0.6049]\n",
      "yfcc4k-country: 100%|█████████▉| 567/568 [03:15<00:00,  2.90it/s, Accuracy: 0.4888]\n"
     ]
    },
    {
     "name": "stdout",
     "output_type": "stream",
     "text": [
      "CLIP-ViT-L-14-336-continent-osv5m\n"
     ]
    },
    {
     "name": "stderr",
     "output_type": "stream",
     "text": [
      "im2gps3k-continent: 100%|██████████| 375/375 [02:13<00:00,  2.81it/s, Accuracy: 0.8098]\n",
      "im2gps3k-country: 100%|██████████| 375/375 [02:21<00:00,  2.64it/s, Accuracy: 0.5472]\n",
      "yfcc4k-continent: 100%|█████████▉| 567/568 [03:02<00:00,  3.11it/s, Accuracy: 0.7189]\n",
      "yfcc4k-country: 100%|█████████▉| 567/568 [03:13<00:00,  2.93it/s, Accuracy: 0.4563]\n"
     ]
    },
    {
     "name": "stdout",
     "output_type": "stream",
     "text": [
      "CLIP-ViT-L-14-336-combinedlabels-osv5m\n"
     ]
    },
    {
     "name": "stderr",
     "output_type": "stream",
     "text": [
      "im2gps3k-continent: 100%|██████████| 375/375 [02:15<00:00,  2.77it/s, Accuracy: 0.7998]\n",
      "im2gps3k-country: 100%|██████████| 375/375 [02:23<00:00,  2.62it/s, Accuracy: 0.5712]\n",
      "yfcc4k-continent: 100%|█████████▉| 567/568 [03:02<00:00,  3.11it/s, Accuracy: 0.6510]\n",
      "yfcc4k-country: 100%|█████████▉| 567/568 [03:10<00:00,  2.97it/s, Accuracy: 0.4755]\n"
     ]
    },
    {
     "name": "stdout",
     "output_type": "stream",
     "text": [
      "CLIP-ViT-L-14-336-continent-zeroshot\n"
     ]
    },
    {
     "name": "stderr",
     "output_type": "stream",
     "text": [
      "im2gps3k-continent: 100%|██████████| 375/375 [02:10<00:00,  2.87it/s, Accuracy: 0.6880]\n",
      "im2gps3k-country: 100%|██████████| 375/375 [02:17<00:00,  2.73it/s, Accuracy: 0.5202]\n",
      "yfcc4k-continent: 100%|█████████▉| 567/568 [02:56<00:00,  3.21it/s, Accuracy: 0.5331]\n",
      "yfcc4k-country: 100%|█████████▉| 567/568 [03:10<00:00,  2.98it/s, Accuracy: 0.3836]\n"
     ]
    }
   ],
   "source": [
    "for eval_model in EVAL_MODELS:\n",
    "    print(eval_model)\n",
    "    model_path = EVAL_MODELS[eval_model][\"model_path\"]\n",
    "    processor_path = EVAL_MODELS[eval_model][\"processor\"]\n",
    "    torch.cuda.empty_cache()\n",
    "    model = CLIPModel.from_pretrained(model_path)\n",
    "    processor = CLIPProcessor.from_pretrained(processor_path)\n",
    "    model = model.to(device)\n",
    "\n",
    "    eval_export_dir = os.path.join(EVAL_EXPORT_BASE_DIR, eval_model)\n",
    "    if not os.path.exists(eval_export_dir):\n",
    "        os.makedirs(eval_export_dir)\n",
    "\n",
    "    for ds in EVAL_DATASETS.keys():\n",
    "        i_ds = EVAL_DATASETS[ds].to_iterable_dataset()\n",
    "        for target in TARGET_LABELS:\n",
    "            labels = EVAL_DATASETS[ds].unique(target)\n",
    "            text_prompts = [f\"A photo from {geo}.\" for geo in labels]\n",
    "            pred_ids = []\n",
    "            gt_ids = []\n",
    "            pbar = tqdm(enumerate(i_ds.iter(batch_size=BATCH_SIZE)), total=int(EVAL_DATASETS[ds].num_rows/BATCH_SIZE)+1, desc=f\"{ds}-{target}\")\n",
    "            for idx, batch in pbar:\n",
    "                inputs = processor(text=text_prompts, images=batch[\"image\"], return_tensors='pt', padding=True)\n",
    "                batch_gt_ids = batch[target]\n",
    "                gt_ids.extend(batch_gt_ids)\n",
    "                inputs = inputs.to(device)\n",
    "                with torch.no_grad():\n",
    "                    outputs = model(**inputs)\n",
    "                    logits_per_image = outputs.logits_per_image\n",
    "                    probs = logits_per_image.softmax(dim=-1)\n",
    "                    batch_pred_ids = probs.argmax(axis=-1).to(\"cpu\")\n",
    "\n",
    "                pred_ids.extend([labels[pred] for pred in batch_pred_ids])\n",
    "                pbar.set_postfix_str(f\"Accuracy: {accuracy_score(y_true=gt_ids, y_pred=pred_ids):.4f}\")\n",
    "            np.save(os.path.join(eval_export_dir, f\"{ds}-{target}\"), pred_ids)\n"
   ]
  }
 ],
 "metadata": {
  "kernelspec": {
   "display_name": ".venv",
   "language": "python",
   "name": "python3"
  },
  "language_info": {
   "codemirror_mode": {
    "name": "ipython",
    "version": 3
   },
   "file_extension": ".py",
   "mimetype": "text/x-python",
   "name": "python",
   "nbconvert_exporter": "python",
   "pygments_lexer": "ipython3",
   "version": "3.12.3"
  }
 },
 "nbformat": 4,
 "nbformat_minor": 2
}
