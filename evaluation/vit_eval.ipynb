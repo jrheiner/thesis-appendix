{
 "cells": [
  {
   "cell_type": "code",
   "execution_count": 1,
   "metadata": {},
   "outputs": [],
   "source": [
    "from datasets import load_dataset\n",
    "from transformers import ViTForImageClassification, ViTImageProcessor\n",
    "import numpy as np\n",
    "import evaluate\n",
    "import torch\n",
    "import huggingface_hub\n",
    "from tqdm import tqdm\n",
    "from sklearn.metrics import accuracy_score\n",
    "import os\n"
   ]
  },
  {
   "cell_type": "code",
   "execution_count": 2,
   "metadata": {},
   "outputs": [
    {
     "name": "stdout",
     "output_type": "stream",
     "text": [
      "CUDA=True\n",
      "count=1\n",
      "current=NVIDIA GeForce RTX 4070\n"
     ]
    }
   ],
   "source": [
    "CUDA_AVAILABLE=torch.cuda.is_available()\n",
    "print(f\"CUDA={CUDA_AVAILABLE}\")\n",
    "device = \"cuda\" if CUDA_AVAILABLE else \"cpu\"\n",
    "print(f\"count={torch.cuda.device_count()}\")\n",
    "print(f\"current={torch.cuda.get_device_name(torch.cuda.current_device())}\")"
   ]
  },
  {
   "cell_type": "code",
   "execution_count": 3,
   "metadata": {},
   "outputs": [
    {
     "data": {
      "application/vnd.jupyter.widget-view+json": {
       "model_id": "03f26a434b3f41b993c7265a926a5645",
       "version_major": 2,
       "version_minor": 0
      },
      "text/plain": [
       "Resolving data files:   0%|          | 0/23 [00:00<?, ?it/s]"
      ]
     },
     "metadata": {},
     "output_type": "display_data"
    },
    {
     "data": {
      "application/vnd.jupyter.widget-view+json": {
       "model_id": "590fc86993994277b68350cc5312231f",
       "version_major": 2,
       "version_minor": 0
      },
      "text/plain": [
       "Resolving data files:   0%|          | 0/23 [00:00<?, ?it/s]"
      ]
     },
     "metadata": {},
     "output_type": "display_data"
    }
   ],
   "source": [
    "ds_k78k = load_dataset(\"jrheiner/geo_training_v3\", split=\"test\")\n",
    "ds_im2gps = load_dataset(\"jrheiner/im2gps\", split=\"train\")\n",
    "ds_im2gps2k = load_dataset(\"jrheiner/im2gps2k\", split=\"train\")\n",
    "ds_im2gps3k = load_dataset(\"jrheiner/im2gps3k\", split=\"train\")\n",
    "ds_yfcc4k = load_dataset(\"jrheiner/yfcc4k\", split=\"train\")\n"
   ]
  },
  {
   "cell_type": "code",
   "execution_count": 4,
   "metadata": {},
   "outputs": [],
   "source": [
    "def map_id2label(example):\n",
    "    example[\"country_str\"] = ds_im2gps.features[\"country\"].int2str(example[\"country\"])\n",
    "    example[\"continent_str\"] = ds_im2gps.features[\"continent\"].int2str(example[\"continent\"])\n",
    "    return example\n",
    "\n",
    "ds_im2gps = ds_im2gps.map(map_id2label, batched=True)\n",
    "ds_im2gps = ds_im2gps.remove_columns([\"country\", \"continent\"])\n",
    "ds_im2gps = ds_im2gps.rename_column(\"country_str\", \"country\")\n",
    "ds_im2gps = ds_im2gps.rename_column(\"continent_str\", \"continent\")\n",
    "\n",
    "def map_id2label(example):\n",
    "    example[\"country_str\"] = ds_im2gps2k.features[\"country\"].int2str(example[\"country\"])\n",
    "    example[\"continent_str\"] = ds_im2gps2k.features[\"continent\"].int2str(example[\"continent\"])\n",
    "    return example\n",
    "\n",
    "ds_im2gps2k = ds_im2gps2k.map(map_id2label, batched=True)\n",
    "ds_im2gps2k = ds_im2gps2k.remove_columns([\"country\", \"continent\"])\n",
    "ds_im2gps2k = ds_im2gps2k.rename_column(\"country_str\", \"country\")\n",
    "ds_im2gps2k = ds_im2gps2k.rename_column(\"continent_str\", \"continent\")\n"
   ]
  },
  {
   "cell_type": "code",
   "execution_count": 5,
   "metadata": {},
   "outputs": [
    {
     "data": {
      "text/plain": [
       "Dataset({\n",
       "    features: ['image', 'image_id', 'longitude', 'latitude', 'country', 'continent', 'source'],\n",
       "    num_rows: 7020\n",
       "})"
      ]
     },
     "execution_count": 5,
     "metadata": {},
     "output_type": "execute_result"
    }
   ],
   "source": [
    "ds_k78k"
   ]
  },
  {
   "cell_type": "code",
   "execution_count": 6,
   "metadata": {},
   "outputs": [
    {
     "data": {
      "text/plain": [
       "Dataset({\n",
       "    features: ['image', 'im2gps_category', 'latitude', 'longitude', 'country', 'continent'],\n",
       "    num_rows: 237\n",
       "})"
      ]
     },
     "execution_count": 6,
     "metadata": {},
     "output_type": "execute_result"
    }
   ],
   "source": [
    "ds_im2gps"
   ]
  },
  {
   "cell_type": "code",
   "execution_count": 7,
   "metadata": {},
   "outputs": [
    {
     "data": {
      "text/plain": [
       "Dataset({\n",
       "    features: ['image', 'latitude', 'longitude', 'country', 'continent'],\n",
       "    num_rows: 2000\n",
       "})"
      ]
     },
     "execution_count": 7,
     "metadata": {},
     "output_type": "execute_result"
    }
   ],
   "source": [
    "ds_im2gps2k"
   ]
  },
  {
   "cell_type": "code",
   "execution_count": 8,
   "metadata": {},
   "outputs": [
    {
     "data": {
      "text/plain": [
       "Dataset({\n",
       "    features: ['image', 'latitude', 'longitude', 'country', 'continent'],\n",
       "    num_rows: 2997\n",
       "})"
      ]
     },
     "execution_count": 8,
     "metadata": {},
     "output_type": "execute_result"
    }
   ],
   "source": [
    "ds_im2gps3k"
   ]
  },
  {
   "cell_type": "code",
   "execution_count": 9,
   "metadata": {},
   "outputs": [
    {
     "data": {
      "text/plain": [
       "Dataset({\n",
       "    features: ['image', 'id', 'longitude', 'latitude', 'country', 'continent'],\n",
       "    num_rows: 4536\n",
       "})"
      ]
     },
     "execution_count": 9,
     "metadata": {},
     "output_type": "execute_result"
    }
   ],
   "source": [
    "ds_yfcc4k"
   ]
  },
  {
   "cell_type": "code",
   "execution_count": 73,
   "metadata": {},
   "outputs": [],
   "source": [
    "EVAL_EXPORT_BASE_DIR = \"evals\"\n",
    "BATCH_SIZE=1\n",
    "\n",
    "EVAL_DATASETS = {\n",
    "    \"k78k\": ds_k78k,\n",
    "    \"im2gps\": ds_im2gps,\n",
    "    \"im2gps2k\": ds_im2gps2k,\n",
    "    \"im2gps3k\": ds_im2gps3k,\n",
    "    \"yfcc4k\": ds_yfcc4k\n",
    "}\n",
    "\n",
    "TARGET_LABELS = [\"continent\", \"country\"]\n",
    "\n",
    "EVAL_MODELS = {\n",
    "    \"ViT-T-16-continent-scratch\": {\n",
    "        \"model_path\": \"models/vit-tiny-16-224-continent-base\",\n",
    "        \"processor\": \"WinKawaks/vit-tiny-patch16-224\"\n",
    "    },\n",
    "    \"ViT-T-16-country-scratch\": {\n",
    "        \"model_path\": \"models/vit-tiny-16-224-country-base\",\n",
    "        \"processor\": \"WinKawaks/vit-tiny-patch16-224\"\n",
    "    },\n",
    "    \"ViT-T-16-continent-finetune\": {\n",
    "        \"model_path\": \"models/vit-tiny-16-224-continent-pretraining\",\n",
    "        \"processor\": \"WinKawaks/vit-tiny-patch16-224\"\n",
    "    },\n",
    "    \"ViT-T-16-country-finetune\": {\n",
    "        \"model_path\": \"models/vit-tiny-16-224-country-pretraining\",\n",
    "        \"processor\": \"WinKawaks/vit-tiny-patch16-224\"\n",
    "    },\n",
    "    \"ViT-B-16-continent-finetune\": {\n",
    "        \"model_path\": \"models/vit-base-16-224-continent-finetune\",\n",
    "        \"processor\": \"google/vit-base-patch16-224\"\n",
    "    },\n",
    "    \"ViT-B-16-country-finetune\": {\n",
    "        \"model_path\": \"models/vit-base-16-224-country-finetune\",\n",
    "        \"processor\": \"google/vit-base-patch16-224\"\n",
    "    }\n",
    "}"
   ]
  },
  {
   "cell_type": "code",
   "execution_count": 74,
   "metadata": {},
   "outputs": [
    {
     "name": "stdout",
     "output_type": "stream",
     "text": [
      "ViT-T-16-continent-scratch\n"
     ]
    },
    {
     "name": "stderr",
     "output_type": "stream",
     "text": [
      "k78k-continent: 100%|█████████▉| 7020/7021 [02:17<00:00, 51.16it/s, Accuracy: 0.5721]\n",
      "k78k-country: 100%|█████████▉| 7020/7021 [02:35<00:00, 45.28it/s, Accuracy: 0.0000]\n",
      "im2gps-continent: 100%|█████████▉| 237/238 [00:03<00:00, 59.33it/s, Accuracy: 0.2532]\n",
      "im2gps-country: 100%|█████████▉| 237/238 [00:03<00:00, 60.53it/s, Accuracy: 0.0000]\n",
      "im2gps2k-continent: 100%|█████████▉| 2000/2001 [00:33<00:00, 59.59it/s, Accuracy: 0.1970]\n",
      "im2gps2k-country: 100%|█████████▉| 2000/2001 [00:32<00:00, 61.92it/s, Accuracy: 0.0000]\n",
      "im2gps3k-continent: 100%|█████████▉| 2997/2998 [00:50<00:00, 59.80it/s, Accuracy: 0.2289]\n",
      "im2gps3k-country: 100%|█████████▉| 2997/2998 [00:50<00:00, 59.86it/s, Accuracy: 0.0000]\n",
      "yfcc4k-continent: 100%|█████████▉| 4536/4537 [00:58<00:00, 77.06it/s, Accuracy: 0.1825]\n",
      "yfcc4k-country: 100%|█████████▉| 4536/4537 [00:57<00:00, 78.64it/s, Accuracy: 0.0000]\n"
     ]
    },
    {
     "name": "stdout",
     "output_type": "stream",
     "text": [
      "ViT-T-16-country-scratch\n"
     ]
    },
    {
     "name": "stderr",
     "output_type": "stream",
     "text": [
      "k78k-continent: 100%|█████████▉| 7020/7021 [02:34<00:00, 45.55it/s, Accuracy: 0.0000]\n",
      "k78k-country: 100%|█████████▉| 7020/7021 [02:16<00:00, 51.56it/s, Accuracy: 0.4652]\n",
      "im2gps-continent: 100%|█████████▉| 237/238 [00:02<00:00, 86.09it/s, Accuracy: 0.0000]\n",
      "im2gps-country: 100%|█████████▉| 237/238 [00:02<00:00, 82.37it/s, Accuracy: 0.0338]\n",
      "im2gps2k-continent: 100%|█████████▉| 2000/2001 [00:25<00:00, 78.15it/s, Accuracy: 0.0000]\n",
      "im2gps2k-country: 100%|█████████▉| 2000/2001 [00:26<00:00, 75.04it/s, Accuracy: 0.0695]\n",
      "im2gps3k-continent: 100%|█████████▉| 2997/2998 [00:39<00:00, 75.82it/s, Accuracy: 0.0000]\n",
      "im2gps3k-country: 100%|█████████▉| 2997/2998 [00:40<00:00, 73.18it/s, Accuracy: 0.0507]\n",
      "yfcc4k-continent: 100%|█████████▉| 4536/4537 [00:48<00:00, 94.09it/s, Accuracy: 0.0000] \n",
      "yfcc4k-country: 100%|█████████▉| 4536/4537 [00:54<00:00, 82.50it/s, Accuracy: 0.0657] \n"
     ]
    },
    {
     "name": "stdout",
     "output_type": "stream",
     "text": [
      "ViT-T-16-continent-finetune\n"
     ]
    },
    {
     "name": "stderr",
     "output_type": "stream",
     "text": [
      "k78k-continent: 100%|█████████▉| 7020/7021 [02:11<00:00, 53.22it/s, Accuracy: 0.7976]\n",
      "k78k-country: 100%|█████████▉| 7020/7021 [02:12<00:00, 52.90it/s, Accuracy: 0.0000]\n",
      "im2gps-continent: 100%|█████████▉| 237/238 [00:03<00:00, 70.46it/s, Accuracy: 0.2700]\n",
      "im2gps-country: 100%|█████████▉| 237/238 [00:02<00:00, 83.23it/s, Accuracy: 0.0000]\n",
      "im2gps2k-continent: 100%|█████████▉| 2000/2001 [00:29<00:00, 66.80it/s, Accuracy: 0.2400]\n",
      "im2gps2k-country: 100%|█████████▉| 2000/2001 [00:28<00:00, 70.55it/s, Accuracy: 0.0000]\n",
      "im2gps3k-continent: 100%|█████████▉| 2997/2998 [00:51<00:00, 58.73it/s, Accuracy: 0.2926]\n",
      "im2gps3k-country: 100%|█████████▉| 2997/2998 [00:50<00:00, 59.76it/s, Accuracy: 0.0000]\n",
      "yfcc4k-continent: 100%|█████████▉| 4536/4537 [00:54<00:00, 83.54it/s, Accuracy: 0.2240] \n",
      "yfcc4k-country: 100%|█████████▉| 4536/4537 [00:53<00:00, 85.26it/s, Accuracy: 0.0000]\n"
     ]
    },
    {
     "name": "stdout",
     "output_type": "stream",
     "text": [
      "ViT-T-16-country-finetune\n"
     ]
    },
    {
     "name": "stderr",
     "output_type": "stream",
     "text": [
      "k78k-continent: 100%|█████████▉| 7020/7021 [02:10<00:00, 53.75it/s, Accuracy: 0.0000]\n",
      "k78k-country: 100%|█████████▉| 7020/7021 [02:22<00:00, 49.38it/s, Accuracy: 0.6775]\n",
      "im2gps-continent: 100%|█████████▉| 237/238 [00:03<00:00, 61.11it/s, Accuracy: 0.0000]\n",
      "im2gps-country: 100%|█████████▉| 237/238 [00:03<00:00, 63.76it/s, Accuracy: 0.0464]\n",
      "im2gps2k-continent: 100%|█████████▉| 2000/2001 [00:33<00:00, 59.51it/s, Accuracy: 0.0000]\n",
      "im2gps2k-country: 100%|█████████▉| 2000/2001 [00:31<00:00, 64.13it/s, Accuracy: 0.0735]\n",
      "im2gps3k-continent: 100%|█████████▉| 2997/2998 [00:47<00:00, 63.66it/s, Accuracy: 0.0000]\n",
      "im2gps3k-country: 100%|█████████▉| 2997/2998 [00:48<00:00, 61.86it/s, Accuracy: 0.0697]\n",
      "yfcc4k-continent: 100%|█████████▉| 4536/4537 [00:56<00:00, 80.85it/s, Accuracy: 0.0000]\n",
      "yfcc4k-country: 100%|█████████▉| 4536/4537 [00:56<00:00, 79.73it/s, Accuracy: 0.0626]\n"
     ]
    },
    {
     "name": "stdout",
     "output_type": "stream",
     "text": [
      "ViT-B-16-continent-finetune\n"
     ]
    },
    {
     "data": {
      "application/vnd.jupyter.widget-view+json": {
       "model_id": "4f06beb2a2b34ae5bff0b794c996a4da",
       "version_major": 2,
       "version_minor": 0
      },
      "text/plain": [
       "preprocessor_config.json:   0%|          | 0.00/160 [00:00<?, ?B/s]"
      ]
     },
     "metadata": {},
     "output_type": "display_data"
    },
    {
     "name": "stderr",
     "output_type": "stream",
     "text": [
      "k78k-continent: 100%|█████████▉| 7020/7021 [02:04<00:00, 56.51it/s, Accuracy: 0.8507]\n",
      "k78k-country: 100%|█████████▉| 7020/7021 [02:05<00:00, 55.84it/s, Accuracy: 0.0000]\n",
      "im2gps-continent: 100%|█████████▉| 237/238 [00:03<00:00, 75.89it/s, Accuracy: 0.4304]\n",
      "im2gps-country: 100%|█████████▉| 237/238 [00:02<00:00, 79.47it/s, Accuracy: 0.0000]\n",
      "im2gps2k-continent: 100%|█████████▉| 2000/2001 [00:26<00:00, 75.23it/s, Accuracy: 0.3415]\n",
      "im2gps2k-country: 100%|█████████▉| 2000/2001 [00:27<00:00, 73.11it/s, Accuracy: 0.0000]\n",
      "im2gps3k-continent: 100%|█████████▉| 2997/2998 [00:42<00:00, 70.73it/s, Accuracy: 0.3917]\n",
      "im2gps3k-country: 100%|█████████▉| 2997/2998 [00:43<00:00, 68.68it/s, Accuracy: 0.0000]\n",
      "yfcc4k-continent: 100%|█████████▉| 4536/4537 [00:52<00:00, 86.72it/s, Accuracy: 0.3104]\n",
      "yfcc4k-country: 100%|█████████▉| 4536/4537 [00:52<00:00, 86.96it/s, Accuracy: 0.0000]\n"
     ]
    },
    {
     "name": "stdout",
     "output_type": "stream",
     "text": [
      "ViT-B-16-country-finetune\n"
     ]
    },
    {
     "name": "stderr",
     "output_type": "stream",
     "text": [
      "k78k-continent: 100%|█████████▉| 7020/7021 [02:07<00:00, 55.12it/s, Accuracy: 0.0000]\n",
      "k78k-country: 100%|█████████▉| 7020/7021 [02:09<00:00, 54.23it/s, Accuracy: 0.7450]\n",
      "im2gps-continent: 100%|█████████▉| 237/238 [00:03<00:00, 63.46it/s, Accuracy: 0.0000]\n",
      "im2gps-country: 100%|█████████▉| 237/238 [00:03<00:00, 74.68it/s, Accuracy: 0.1266]\n",
      "im2gps2k-continent: 100%|█████████▉| 2000/2001 [00:27<00:00, 73.71it/s, Accuracy: 0.0000]\n",
      "im2gps2k-country: 100%|█████████▉| 2000/2001 [00:27<00:00, 72.99it/s, Accuracy: 0.1205]\n",
      "im2gps3k-continent: 100%|█████████▉| 2997/2998 [00:42<00:00, 70.68it/s, Accuracy: 0.0000]\n",
      "im2gps3k-country: 100%|█████████▉| 2997/2998 [00:42<00:00, 71.11it/s, Accuracy: 0.1158]\n",
      "yfcc4k-continent: 100%|█████████▉| 4536/4537 [00:51<00:00, 88.93it/s, Accuracy: 0.0000] \n",
      "yfcc4k-country: 100%|█████████▉| 4536/4537 [00:51<00:00, 88.89it/s, Accuracy: 0.1254] \n"
     ]
    }
   ],
   "source": [
    "for eval_model in EVAL_MODELS:\n",
    "    print(eval_model)\n",
    "    model_path = EVAL_MODELS[eval_model][\"model_path\"]\n",
    "    processor_path = EVAL_MODELS[eval_model][\"processor\"]\n",
    "    torch.cuda.empty_cache()\n",
    "    model = ViTForImageClassification.from_pretrained(model_path)\n",
    "    processor = ViTImageProcessor.from_pretrained(processor_path)\n",
    "    model = model.to(device)\n",
    "\n",
    "    eval_export_dir = os.path.join(EVAL_EXPORT_BASE_DIR, eval_model)\n",
    "    if not os.path.exists(eval_export_dir):\n",
    "        os.makedirs(eval_export_dir)\n",
    "\n",
    "    for ds in EVAL_DATASETS.keys():\n",
    "        i_ds = EVAL_DATASETS[ds].to_iterable_dataset()\n",
    "        for target in TARGET_LABELS:\n",
    "            pred_ids = []\n",
    "            gt_ids = []\n",
    "            pbar = tqdm(enumerate(i_ds.iter(batch_size=BATCH_SIZE)), total=int(EVAL_DATASETS[ds].num_rows/BATCH_SIZE)+1, desc=f\"{ds}-{target}\")\n",
    "            for idx, batch in pbar:\n",
    "                if np.array(batch[\"image\"]).shape[-1] != 3:\n",
    "                    inputs = processor(images=np.stack((np.array(ds_yfcc4k[20][\"image\"]),)*3, axis=-1), return_tensors='pt')\n",
    "                else:\n",
    "                    inputs = processor(images=batch[\"image\"], return_tensors='pt')\n",
    "                batch_gt_ids = batch[target]\n",
    "                gt_ids.extend(batch_gt_ids)\n",
    "                inputs = inputs.to(device)\n",
    "                with torch.no_grad():\n",
    "                    outputs = model(**inputs)\n",
    "                    batch_pred_ids = outputs.logits.argmax(axis=-1).to(\"cpu\")\n",
    "\n",
    "                pred_ids.extend([model.config.id2label[pred.item()] for pred in batch_pred_ids])\n",
    "                pbar.set_postfix_str(f\"Accuracy: {accuracy_score(y_true=gt_ids, y_pred=pred_ids):.4f}\")\n",
    "            np.save(os.path.join(eval_export_dir, f\"{ds}-{target}\"), pred_ids)\n"
   ]
  }
 ],
 "metadata": {
  "kernelspec": {
   "display_name": ".venv",
   "language": "python",
   "name": "python3"
  },
  "language_info": {
   "codemirror_mode": {
    "name": "ipython",
    "version": 3
   },
   "file_extension": ".py",
   "mimetype": "text/x-python",
   "name": "python",
   "nbconvert_exporter": "python",
   "pygments_lexer": "ipython3",
   "version": "3.12.3"
  }
 },
 "nbformat": 4,
 "nbformat_minor": 2
}
